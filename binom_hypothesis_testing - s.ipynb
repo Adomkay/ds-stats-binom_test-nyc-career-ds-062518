{
 "cells": [
  {
   "cell_type": "markdown",
   "metadata": {},
   "source": [
    "# Hypothesis Testing with Binomial Distributions\n",
    "\n",
    "## SWBAT\n",
    "\n",
    "* Set null and alternative hypotheses around binomial random variables\n",
    "* Design and run and experiments using binomial distribution for estimations\n",
    "* Define decision boundaries for results of significance testing  and visualize the output \n"
   ]
  },
  {
   "cell_type": "markdown",
   "metadata": {},
   "source": [
    "## Introduction\n",
    "When thinking of using a binomial distribuion, think coin flips. For example, suppose we've got a coin, and we want to find out if it's fair i.e. when we flip the coin, are we as likely to see heads as we are to see tails. A null hypothesis for this situation could be:\n",
    "\n",
    "> **Ho:** We're just as likely to get heads as tails when we flip the coin.\n",
    "\n",
    "A suitable alternative hypothesis might be:\n",
    "\n",
    "> **Ha:** We're more likely to see either heads or tails when we flip the coin.\n",
    "\n",
    "This is a two-sided experiment, since we'll reject the null hypothesis if heads are more likely or if tails are more likely. We could use a one-sided alternative hypothesis like \"We're more likely to see tails than heads\". "
   ]
  },
  {
   "cell_type": "markdown",
   "metadata": {},
   "source": [
    "## Experimental Setting\n",
    "\n",
    "As seen in earlier labs, we need to perform an experiment in order to help test our hypothesis. We can say that in order to test the null hypothesis that heads are just as likely as tails, we are going to toss the coin 100 times and record the results. \n",
    "\n",
    "For tossing a fair coin (which is what the null hypothesis states), most statisticians agree that the number of heads (or tails) that we would expect follows what is a binomial distribution. This distribution takes two parameters: \n",
    "\n",
    ">$n$- the number of individual independent experiments (think number of coin flips)\n",
    "\n",
    ">$p$- the probability of success of that event (think .5 for a fair coin)\n",
    "\n",
    "\n",
    "\n",
    "Let's model 100 fair coin flips and observe the number of heads. Since it's fair, we set p=0.5\n",
    "\n"
   ]
  },
  {
   "cell_type": "markdown",
   "metadata": {},
   "source": [
    "First let's import the necessary modules"
   ]
  },
  {
   "cell_type": "code",
   "execution_count": 11,
   "metadata": {},
   "outputs": [],
   "source": [
    "%matplotlib inline\n",
    "import numpy as np\n",
    "import matplotlib.pyplot as plt\n",
    "import seaborn as sns\n",
    "from scipy import stats\n",
    "from statsmodels.stats import proportion\n",
    "sns.set_style('dark')"
   ]
  },
  {
   "cell_type": "markdown",
   "metadata": {},
   "source": [
    "Lets simulate and visualize a 100-flip event. Use `np.random.random(n)` to return random number in the interval [0.0, 1.0] and count the number where the outputs are less than 0.5. We shall treat this number as the total count for heads for n=100 flips.\n",
    "Plot the frequency of heads and tails. "
   ]
  },
  {
   "cell_type": "code",
   "execution_count": 14,
   "metadata": {},
   "outputs": [
    {
     "data": {
      "text/plain": [
       "(45, 55)"
      ]
     },
     "execution_count": 14,
     "metadata": {},
     "output_type": "execute_result"
    }
   ],
   "source": [
    "np.random.seed(17)\n",
    "\n",
    "# Define p and n values\n",
    "p = 0.5\n",
    "n = 100\n",
    "\n",
    "#Calculate the number of heads for a random 100 coin flips event. \n",
    "heads = (np.random.random(n) < p).sum()\n",
    "\n",
    "heads, (100-heads)\n",
    "#45 55"
   ]
  },
  {
   "cell_type": "markdown",
   "metadata": {},
   "source": [
    "We can also plot the frequency of heads and tails "
   ]
  },
  {
   "cell_type": "code",
   "execution_count": 15,
   "metadata": {},
   "outputs": [
    {
     "data": {
      "image/png": "[encoded data removed]",
      "text/plain": [
       "<matplotlib.figure.Figure at 0x1a15e3c438>"
      ]
     },
     "metadata": {},
     "output_type": "display_data"
    }
   ],
   "source": [
    "#Plot a frequency table showing number of heads and tails\n",
    "fig, ax = plt.subplots()\n",
    "ax.bar([0, 1], [heads, n-heads])\n",
    "ax.set_xticks((0,1))\n",
    "ax.set_xticklabels(('Heads', 'Tails'))\n",
    "ax.set_ylabel('Freq.')\n",
    "sns.despine()"
   ]
  },
  {
   "cell_type": "markdown",
   "metadata": {},
   "source": [
    "Carrying out this random experiment, we see 45 heads and 55 tails. \n",
    "> Can we safely say that the coin is fair? \n",
    "\n",
    "Without some further guidelines, it would be very hard to say if this deviation from 50/50 really provides much evidence one way or the other. To proceed any further, we have to have some notion of what we would expect to see in the long run if the null hypothesis was true.\n",
    "\n",
    "----"
   ]
  },
  {
   "cell_type": "markdown",
   "metadata": {},
   "source": [
    "### Define the parameters\n",
    "\n",
    "Let's run the above experiment for 10,000 times and plot a histogram for frequency of heads.\n",
    "\n",
    "using `np.random.binomial(n,p, size)`, we can also define an extra parameter for defining number of trials for our experiment.\n",
    "\n",
    ">$size$- the number of times you want to run this experiment (let's set that to 10,000 - experiment with this value and see the effet)\n",
    "\n",
    "Under the null hypothesis, the probability is 0.5. We can see the expected probability of getting any particular number of heads if we tossed a coin 100 times by plotting the density function for the binomial distribution with parameters 100 and .5 .\n",
    "\n",
    "Let's model 100 fair coin flips. Since it's fair, $p = 0.5$ , $n=100$ and $size = 10000$. Draw a histogram for the frequency of heads observed."
   ]
  },
  {
   "cell_type": "code",
   "execution_count": 20,
   "metadata": {},
   "outputs": [
    {
     "data": {
      "image/png": "[encoded data removed]",
      "text/plain": [
       "<matplotlib.figure.Figure at 0x1a16268588>"
      ]
     },
     "metadata": {},
     "output_type": "display_data"
    }
   ],
   "source": [
    "np.random.seed(16)\n",
    "\n",
    "# Define values of p, n and size\n",
    "p = 0.5\n",
    "n = 100\n",
    "size = 10000\n",
    "\n",
    "# Calculate the binomial distribution using np.random.binom()\n",
    "binom_dist = np.random.binomial(n,p, size)\n",
    "\n",
    "# Plot a histogram for number of heads \n",
    "plt.hist(binom_dist, bins=20)\n",
    "plt.xlabel('Number of Heads per 100 flips')\n",
    "plt.ylabel('Count')\n",
    "plt.show()"
   ]
  },
  {
   "cell_type": "markdown",
   "metadata": {},
   "source": [
    "As you'd probably expect, the most common value we'd see would be 50, but there are lots of reasonable values that aren't exactly 50 that would also occur pretty often. So to make a decision rule for when we will reject the null hypothesis, we would first decide how often we're willing to reject the null hypothesis when it was actually true. \n",
    "Without any compelling reason to choose otherwise, people usually will accept an error of 5% when performing a hypothesis test.\n",
    "\n",
    "### Develop a decision rule\n",
    "\n",
    "To come up with a decision rule that would be wrong only 5% of the time: \n",
    ">**We need to find the number of heads for which we would see fewer heads 2.5% of the time, and the number of heads for which we would see more heads 2.5% of the time.** i.e. work out the rejection region - the region where you can reject the Null Hypothesis.\n",
    "\n",
    "We shall use `statsmodels.stats.proportion.binom_test_reject_interval(value, nobs, alpha=0.05, alternative='two-sided')` for calculating the rejection region. \n",
    "\n",
    "**Parameters:**\t\n",
    "\n",
    ">value (float) – proportion under the Null hypothesis\n",
    "\n",
    ">nobs (integer) – the number of trials or observations.\n",
    "\n",
    "> Returns: Minimum value, Maximum value for Null Hypothesis to be true"
   ]
  },
  {
   "cell_type": "code",
   "execution_count": 21,
   "metadata": {},
   "outputs": [
    {
     "data": {
      "text/plain": [
       "(39.0, 61.0, 45)"
      ]
     },
     "execution_count": 21,
     "metadata": {},
     "output_type": "execute_result"
    }
   ],
   "source": [
    "# Use statsmodels.stats.proportion.binom_test_reject_interval() \n",
    "# calculate minimum and maximum number of heads for given parameters\n",
    "\n",
    "min_heads, max_heads = proportion.binom_test_reject_interval(0.5, n, alpha=0.05, alternative='two-sided')\n",
    "\n",
    "min_heads, max_heads, heads\n",
    "# (39.0, 61.0, 45)"
   ]
  },
  {
   "cell_type": "markdown",
   "metadata": {},
   "source": [
    "### Findings\n",
    "\n",
    "So in this experiment, if the number of heads we saw was between 39 and 61 (out of 100 tosses), we would accept the null hypothesis. We would formally state that there's not enough evidence to reject the null hypothesis. \n",
    "\n",
    "If we saw fewer than 39 or more than 61 tosses, we would say we had enough evidence to reject the null hypothesis, knowing that we would be wrong only 5% of the time. When we reject the null hypothesis when it was actually true, it's said to be a Type I error. So in this example, we're setting the Type I error rate to 5%."
   ]
  },
  {
   "cell_type": "markdown",
   "metadata": {},
   "source": [
    "## Plotting the Acceptance and Rejection Regions\n",
    "\n",
    "Using the assumptions we made earlier, our findings above and the alpha level we decided on, we can now construct the rejection region for the experiment.T hese are the values of the statistic for which  we shall reject the null hypothesis. \n",
    "\n",
    "In this example, the rejection region is broken up into two sections: less than 39 heads and more than 61 heads.\n",
    "\n",
    "You plot may look something similar to: \n",
    "![](plot.png)\n",
    "\n",
    "Let's plot our findings for presentation:"
   ]
  },
  {
   "cell_type": "code",
   "execution_count": 8,
   "metadata": {},
   "outputs": [
    {
     "data": {
      "image/png": "[encoded data removed]",
      "text/plain": [
       "<matplotlib.figure.Figure at 0x1a15932e10>"
      ]
     },
     "metadata": {},
     "output_type": "display_data"
    }
   ],
   "source": [
    "# Use stats.binom to generate a binomial random variable with values on n and p \n",
    "rv = stats.binom(n, 0.5)\n",
    "\n",
    "#  discrete.pmf(k)\n",
    "#  Probability mass function at k of the given RV.\n",
    "\n",
    "max_freq = rv.pmf(n/2)\n",
    "fig, ax = plt.subplots(figsize=(20, 10))\n",
    "plt.rc('font', size=20)   \n",
    "\n",
    "#  Fill the lower region area for rejecting null hypothesis\n",
    "ax.fill_between([0, min_heads], [max_freq*1.1]*2, alpha=0.1, color='g')\n",
    "\n",
    "# Fill the area rejection area for accepting null hypothesis\n",
    "ax.fill_between([min_heads, max_heads], [max_freq*1.1]*2, alpha=0.1, color = 'b')\n",
    "\n",
    "#  Fill the upper region area for rejecting null hypothesis\n",
    "ax.fill_between([max_heads, 100], [max_freq*1.1]*2, alpha=0.1, color='g')\n",
    "\n",
    "\n",
    "# plot the pmf for hundred flips\n",
    "ax.plot(rv.pmf(np.arange(0, n+1)))\n",
    "\n",
    "# Plot the observed number of heads\n",
    "ax.axvline(heads, color='r', ls='--')\n",
    "ax.annotate('observed', \n",
    "            (heads, 0.05), xytext=(-100, 0), \n",
    "            xycoords='data', textcoords='offset points',\n",
    "            arrowprops=dict(arrowstyle='->'))\n",
    "\n",
    "# Fill the Rejection and Acceptance regions for null hypothesis            \n",
    "ax.annotate('Reject Ho', (0.1, 1.01), xycoords='axes fraction')\n",
    "ax.annotate('Accept Ho', (0.43, 1.01), xycoords='axes fraction')\n",
    "ax.annotate('Reject Ho', ((max_heads/100)+0.1, 1.01), xycoords='axes fraction')\n",
    "\n",
    "# Define y-limit and label the axes\n",
    "ax.set(\n",
    "    ylim=(0, max_freq*1.1),\n",
    "    xlabel='Heads',\n",
    "    ylabel='Probability'\n",
    ")\n",
    "sns.despine()"
   ]
  },
  {
   "cell_type": "markdown",
   "metadata": {},
   "source": [
    "## Summary\n",
    "\n",
    "In this lab, we learnt how to define and set the parameters for a binomial hypothesis testing. We also looked at different stages within experimental setting, from defining a binomial test, identifying rejection regions for null hypothesis. The lesson concluded with an exercise into plotting the findings of this experiment."
   ]
  }
 ],
 "metadata": {
  "kernelspec": {
   "display_name": "Python 3",
   "language": "python",
   "name": "python3"
  },
  "language_info": {
   "codemirror_mode": {
    "name": "ipython",
    "version": 3
   },
   "file_extension": ".py",
   "mimetype": "text/x-python",
   "name": "python",
   "nbconvert_exporter": "python",
   "pygments_lexer": "ipython3",
   "version": "3.6.4"
  }
 },
 "nbformat": 4,
 "nbformat_minor": 2
}
